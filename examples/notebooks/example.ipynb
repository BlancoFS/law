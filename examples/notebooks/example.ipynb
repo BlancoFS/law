{
 "cells": [
  {
   "cell_type": "markdown",
   "id": "18482911",
   "metadata": {},
   "source": [
    "# Example: Usage of law in notebooks"
   ]
  },
  {
   "cell_type": "markdown",
   "id": "27965180",
   "metadata": {},
   "source": [
    "This example demonstrates how to define and run law tasks from within notebooks (jupyter or colab).\n",
    "The usage is mostly identical to starting things from the command line, with a single difference regarding dynamic task definition."
   ]
  },
  {
   "cell_type": "markdown",
   "id": "94604499",
   "metadata": {},
   "source": [
    "### Setup"
   ]
  },
  {
   "cell_type": "markdown",
   "id": "76f3f155",
   "metadata": {},
   "source": [
    "But first, let's make sure law is fully setup."
   ]
  },
  {
   "cell_type": "code",
   "execution_count": 1,
   "id": "c12b2a6c",
   "metadata": {
    "id": "c12b2a6c"
   },
   "outputs": [],
   "source": [
    "import os\n",
    "import sys\n",
    "\n",
    "!command -v law > /dev/null || pip install git+https://github.com/riga/law.git\n",
    "![ -f \"law.cfg\" ] || wget -q https://raw.githubusercontent.com/riga/law/master/examples/notebooks/law.cfg\n",
    "\n",
    "# check if we are in the law checkout\n",
    "checkout_dir = os.path.normpath(os.path.join(os.getcwd(), \"..\", \"..\"))\n",
    "in_checkout = len(set(os.listdir(checkout_dir)) & {\"law\", \"examples\", \"docs\"}) == 3\n",
    "\n",
    "# amend the path if we are\n",
    "if in_checkout:\n",
    "    sys.path.insert(0, checkout_dir)"
   ]
  },
  {
   "cell_type": "markdown",
   "id": "a038597f",
   "metadata": {},
   "source": [
    "In the next cell, we import law and luigi, and load the law ipython magics\n",
    "\n",
    "- `%law`, which runs the passed line in a subprocess, and\n",
    "- `%ilaw`, which runs the passed line interactively in the current process.\n",
    "\n",
    "Since we indent to run tasks by the running notebook kernel, we will only use the latter `%ilaw`."
   ]
  },
  {
   "cell_type": "code",
   "execution_count": 2,
   "id": "7658b416",
   "metadata": {
    "id": "7658b416"
   },
   "outputs": [
    {
     "name": "stderr",
     "output_type": "stream",
     "text": [
      "\u001b[0;49;32mINFO\u001b[0m: \u001b[0;49;39mlaw.contrib.ipython.magic\u001b[0m - \u001b[0;49;39mmagics successfully registered: %law, %ilaw\u001b[0m\n"
     ]
    }
   ],
   "source": [
    "import luigi\n",
    "import law\n",
    "\n",
    "law.contrib.load(\"ipython\")"
   ]
  },
  {
   "cell_type": "markdown",
   "id": "55034117",
   "metadata": {},
   "source": [
    "The ipython magic functions are part of a `contrib` package, which is loaded by the last line.\n",
    "After that, the package `law.ipython` is available."
   ]
  },
  {
   "cell_type": "markdown",
   "id": "1706f0a7",
   "metadata": {},
   "source": [
    "### Define tasks"
   ]
  },
  {
   "cell_type": "markdown",
   "id": "031c7fd2",
   "metadata": {},
   "source": [
    "The purpose of the tasks we are going to define below is to calculate $\\pi$ to a certain precision using [Machin's formula](https://en.wikipedia.org/wiki/Machin-like_formula).\n",
    "Using this formula, one can calculate independent terms for certain orders which eventually can be added up to obtain an approximation for $\\pi$.\n",
    "This can be achieved with two simple tasks:\n",
    "\n",
    "- `ComputeTerm`: Computes terms for a certain order (starting at 0).\n",
    "- `ComputePi`: Sums up the results produced by multiple `ComputeTerm`'s (with a configurable precision) to obtain $\\pi$."
   ]
  },
  {
   "cell_type": "markdown",
   "id": "7bed7df8",
   "metadata": {},
   "source": [
    "##### BaseTask"
   ]
  },
  {
   "cell_type": "markdown",
   "id": "469c0b2e",
   "metadata": {},
   "source": [
    "For that, we first define a base task that serves two purposes.\n",
    "\n",
    "1. It inherits from `law.ipython.Task`. By that, task classes can be redefined using the same name, e.g. when running a cell multiple times. This would otherwise be forbidden by means of luigi's task register.\n",
    "2. It provides some convenience methods for storing output targets."
   ]
  },
  {
   "cell_type": "code",
   "execution_count": 3,
   "id": "26eb91d2",
   "metadata": {},
   "outputs": [],
   "source": [
    "class BaseTask(law.ipython.Task):\n",
    "    \n",
    "    def local_target(self, *paths) -> law.LocalFileTarget:\n",
    "        \"\"\"\n",
    "        Returns a law.LocalFileTarget, located at $PWD/data/<task_name>/paths.\n",
    "        \"\"\"\n",
    "        paths = (\"$PWD\", \"data\", self.task_family) + paths\n",
    "        return law.LocalFileTarget(os.path.join(*paths))"
   ]
  },
  {
   "cell_type": "markdown",
   "id": "c37f6605",
   "metadata": {},
   "source": [
    "##### ComputeTerm"
   ]
  },
  {
   "cell_type": "code",
   "execution_count": 4,
   "id": "40ec53cc",
   "metadata": {
    "id": "40ec53cc"
   },
   "outputs": [],
   "source": [
    "class ComputeTerm(BaseTask):\n",
    "\n",
    "    order = luigi.IntParameter(\n",
    "        default=0,\n",
    "        description=\"the order of the term to compute; default: 0\",\n",
    "    )\n",
    "\n",
    "    def output(self):\n",
    "        \"\"\"\n",
    "        Declare the output of this task, which will be a json file.\n",
    "        \"\"\"\n",
    "        return self.local_target(f\"term_{self.order}.json\")\n",
    "\n",
    "    def run(self):\n",
    "        \"\"\"\n",
    "        Compute a term of pi following Machin's formula for the given order,\n",
    "        https://en.wikipedia.org/wiki/Machin-like_formula.\n",
    "        \"\"\"\n",
    "        # define a lambda to compute the arctan term\n",
    "        exp = self.order * 2 + 1\n",
    "        sgn = -1 if self.order % 2 else 1\n",
    "        arctan_term = lambda x: sgn / exp * (x ** exp)\n",
    "        \n",
    "        # compute the pi term\n",
    "        term = 16 * arctan_term(5 ** -1) - 4 * arctan_term(239 ** -1)\n",
    "        \n",
    "        # save the term in a json file using the \"json\" target formatter\n",
    "        # (a wrapper around the usual \"import json - open file - json.dump()\")\n",
    "        self.output().dump({\"term\": term}, formatter=\"json\")"
   ]
  },
  {
   "cell_type": "markdown",
   "id": "961351e9",
   "metadata": {},
   "source": [
    "##### ComputePi"
   ]
  },
  {
   "cell_type": "code",
   "execution_count": 5,
   "id": "otQ5t3Xoq-dl",
   "metadata": {
    "id": "otQ5t3Xoq-dl"
   },
   "outputs": [],
   "source": [
    "class ComputePi(BaseTask):\n",
    "    \n",
    "    # reuse the definition of the order parameter\n",
    "    # (not it's value!)\n",
    "    order = ComputeTerm.order\n",
    "\n",
    "    def requires(self):\n",
    "        \"\"\"\n",
    "        Require #order ComputeTerm tasks.\n",
    "        \"\"\"\n",
    "        # cls.req returns an instance of cls with parameter values\n",
    "        # derived from the \"self\", plus additional keyword arguments\n",
    "        return [\n",
    "            ComputeTerm.req(self, order=o)\n",
    "            for o in range(self.order + 1)\n",
    "        ]\n",
    "    \n",
    "    def output(self):\n",
    "        \"\"\"\n",
    "        Declare the output of this task, which again will be a json file.\n",
    "        \"\"\"\n",
    "        return self.local_target(f\"pi_{self.order}.json\")\n",
    "\n",
    "    def run(self):\n",
    "        \"\"\"\n",
    "        Sum up values of requirements.\n",
    "        \"\"\"\n",
    "        # input() is the container for the outputs of all requirements\n",
    "        pi = sum(\n",
    "            inp.load(formatter=\"json\")[\"term\"]\n",
    "            for inp in self.input()\n",
    "        )\n",
    "        self.output().dump({\"pi\": pi}, formatter=\"json\")\n",
    "        \n",
    "        # print the result\n",
    "        print(f\"pi for order {self.order}\\n\")\n",
    "        print(f\"approx.: {pi}\")\n",
    "        import math\n",
    "        print(f\"actual : {math.pi:.30f}\")"
   ]
  },
  {
   "cell_type": "markdown",
   "id": "3bc696d4",
   "metadata": {},
   "source": [
    "### Run tasks via `%ilaw`"
   ]
  },
  {
   "cell_type": "markdown",
   "id": "2c377300",
   "metadata": {},
   "source": [
    "Now that we have defined our tasks, it's time to run them.\n",
    "As a start, let's run a `ComputeTerm` task for order `0`."
   ]
  },
  {
   "cell_type": "code",
   "execution_count": 6,
   "id": "5881a9eb",
   "metadata": {},
   "outputs": [
    {
     "name": "stderr",
     "output_type": "stream",
     "text": [
      "\u001b[0;49;32mINFO\u001b[0m: \u001b[0;49;39mluigi-interface\u001b[0m - \u001b[0;49;39mInformed scheduler that task   \u001b[1;49;39mComputeTerm_0_14b1d8259d\u001b[0m   has status   \u001b[0;49;36mPENDING\u001b[0m\u001b[0m\n",
      "\u001b[0;49;32mINFO\u001b[0m: \u001b[0;49;39mluigi-interface\u001b[0m - \u001b[0;49;39m\u001b[1;49;32mDone scheduling tasks\u001b[0m\u001b[0m\n",
      "\u001b[0;49;32mINFO\u001b[0m: \u001b[0;49;39mluigi-interface\u001b[0m - \u001b[0;49;39mRunning Worker with 1 processes\u001b[0m\n",
      "\u001b[0;49;32mINFO\u001b[0m: \u001b[0;49;39mluigi-interface\u001b[0m - \u001b[0;49;39m[pid 79545] Worker Worker(salt=8172917226, workers=1, username=marcel, pid=79545) \u001b[0;49;36mrunning\u001b[0m   \u001b[1;49;39m\u001b[0;49;32mComputeTerm\u001b[0m\u001b[0m(\u001b[1;49;34morder\u001b[0m=0)\u001b[0m\n",
      "\u001b[0;49;32mINFO\u001b[0m: \u001b[0;49;39mluigi-interface\u001b[0m - \u001b[0;49;39m[pid 79545] Worker Worker(salt=8172917226, workers=1, username=marcel, pid=79545) \u001b[0;49;32mdone\u001b[0m      \u001b[1;49;39m\u001b[0;49;32mComputeTerm\u001b[0m\u001b[0m(\u001b[1;49;34morder\u001b[0m=0)\u001b[0m\n",
      "\u001b[0;49;32mINFO\u001b[0m: \u001b[0;49;39mluigi-interface\u001b[0m - \u001b[0;49;39mInformed scheduler that task   \u001b[1;49;39mComputeTerm_0_14b1d8259d\u001b[0m   has status   \u001b[0;49;32mDONE\u001b[0m\u001b[0m\n",
      "\u001b[0;49;32mINFO\u001b[0m: \u001b[0;49;39mluigi-interface\u001b[0m - \u001b[0;49;39mWorker Worker(salt=8172917226, workers=1, username=marcel, pid=79545) was stopped. Shutting down Keep-Alive thread\u001b[0m\n",
      "\u001b[0;49;32mINFO\u001b[0m: \u001b[0;49;39mluigi-interface\u001b[0m - \u001b[0;49;39m\n",
      "===== Luigi Execution Summary =====\n",
      "\n",
      "Scheduled 1 tasks of which:\n",
      "* 1 ran successfully:\n",
      "    - 1 ComputeTerm(...)\n",
      "\n",
      "This progress looks :) because there were no failed tasks or missing dependencies\n",
      "\n",
      "===== Luigi Execution Summary =====\n",
      "\u001b[0m\n"
     ]
    },
    {
     "data": {
      "text/plain": [
       "True"
      ]
     },
     "execution_count": 6,
     "metadata": {},
     "output_type": "execute_result"
    }
   ],
   "source": [
    "%ilaw run ComputeTerm --order 0"
   ]
  },
  {
   "cell_type": "markdown",
   "id": "b42c7c7c",
   "metadata": {},
   "source": [
    "In the above output, you see three phases.\n",
    "\n",
    "1. **Tree building phase:** The task that you run can have requirements (dependent tasks whose output is required to produce the output of the *triggered* task) that need to be identified first, resulting in a directed acyclic graph (DAG) or *tree*. It ends with luigi reporting `Done scheduling tasks`.\n",
    "2. **Run phase:** All tasks that were identified as incomplete (i.e., not all outputs exist) are run, including (and usually concluding with) the triggered task.\n",
    "3. **Summary phase:** Luigi eventually prints a summary of which tasks ran and whether or not they were successful. It starts with luigi reporting `Luigi Execution Summary`."
   ]
  },
  {
   "cell_type": "markdown",
   "id": "2252a3b9",
   "metadata": {},
   "source": [
    "##### Interactive parameters"
   ]
  },
  {
   "cell_type": "markdown",
   "id": "3dede728",
   "metadata": {},
   "source": [
    "Let's run the next order, but this time we don't start the task right away, but we perform some **interactive** checks first.\n",
    "For that, we use the same command as above and we append `--print-status 0`."
   ]
  },
  {
   "cell_type": "code",
   "execution_count": 7,
   "id": "108c67a9",
   "metadata": {},
   "outputs": [
    {
     "name": "stdout",
     "output_type": "stream",
     "text": [
      "print task status with max_depth 0 and target_depth 0\n",
      "\n",
      "0 > \u001b[0;49;32mComputeTerm\u001b[0m(\u001b[1;49;34morder\u001b[0m=1)\n",
      "      \u001b[0;49;36mLocalFileTarget\u001b[0m(\u001b[1;49;34mfs\u001b[0m=local_fs, \u001b[1;49;34mpath\u001b[0m=$PWD/data/ComputeTerm/term_1.json)\n",
      "        \u001b[1;49;31mabsent\u001b[0m\n"
     ]
    }
   ],
   "source": [
    "%ilaw run ComputeTerm --order 1 --print-status 0"
   ]
  },
  {
   "cell_type": "markdown",
   "id": "734fcd80",
   "metadata": {},
   "source": [
    "This command prints the current status of the task, i.e., its outputs and whether they exist or not.\n",
    "The `0` defines the recursion level for showing dependencies with `0` being the triggered task itself.\n",
    "However, since our `ComputeTerm` task has no requirements itself, choosing a value other than `0` would not change anything.\n",
    "So let's check the status of the `ComputePi` task which requires several `ComputeTerm` tasks (depending on the passed order)."
   ]
  },
  {
   "cell_type": "code",
   "execution_count": 8,
   "id": "b97fd3ea",
   "metadata": {},
   "outputs": [
    {
     "name": "stdout",
     "output_type": "stream",
     "text": [
      "print task status with max_depth 1 and target_depth 0\n",
      "\n",
      "0 > \u001b[0;49;32mComputePi\u001b[0m(\u001b[1;49;34morder\u001b[0m=1)\n",
      "│     \u001b[0;49;36mLocalFileTarget\u001b[0m(\u001b[1;49;34mfs\u001b[0m=local_fs, \u001b[1;49;34mpath\u001b[0m=$PWD/data/ComputePi/pi_1.json)\n",
      "│       \u001b[1;49;31mabsent\u001b[0m\n",
      "│\n",
      "├──1 > \u001b[0;49;32mComputeTerm\u001b[0m(\u001b[1;49;34morder\u001b[0m=0)\n",
      "│        \u001b[0;49;36mLocalFileTarget\u001b[0m(\u001b[1;49;34mfs\u001b[0m=local_fs, \u001b[1;49;34mpath\u001b[0m=$PWD/data/ComputeTerm/term_0.json)\n",
      "│          \u001b[1;49;32mexistent\u001b[0m\n",
      "│\n",
      "└──1 > \u001b[0;49;32mComputeTerm\u001b[0m(\u001b[1;49;34morder\u001b[0m=1)\n",
      "         \u001b[0;49;36mLocalFileTarget\u001b[0m(\u001b[1;49;34mfs\u001b[0m=local_fs, \u001b[1;49;34mpath\u001b[0m=$PWD/data/ComputeTerm/term_1.json)\n",
      "           \u001b[1;49;31mabsent\u001b[0m\n"
     ]
    }
   ],
   "source": [
    "%ilaw run ComputePi --order 1 --print-status 1"
   ]
  },
  {
   "cell_type": "markdown",
   "id": "84cde961",
   "metadata": {},
   "source": [
    "We can see the dependency relation between `ComputePi` and `ComputeTerm`, as well as that the output of `ComputeTerm` for order 0 already exists while that for order 1 is missing.\n",
    "It is also obvious that values of parameters can control dependencies, depending on how you implement the `requires()` method.\n",
    "If we request order 2, `ComputePi` will have three requirements."
   ]
  },
  {
   "cell_type": "code",
   "execution_count": 9,
   "id": "75b94cb0",
   "metadata": {},
   "outputs": [
    {
     "name": "stdout",
     "output_type": "stream",
     "text": [
      "print task status with max_depth 1 and target_depth 0\n",
      "\n",
      "0 > \u001b[0;49;32mComputePi\u001b[0m(\u001b[1;49;34morder\u001b[0m=2)\n",
      "│     \u001b[0;49;36mLocalFileTarget\u001b[0m(\u001b[1;49;34mfs\u001b[0m=local_fs, \u001b[1;49;34mpath\u001b[0m=$PWD/data/ComputePi/pi_2.json)\n",
      "│       \u001b[1;49;31mabsent\u001b[0m\n",
      "│\n",
      "├──1 > \u001b[0;49;32mComputeTerm\u001b[0m(\u001b[1;49;34morder\u001b[0m=0)\n",
      "│        \u001b[0;49;36mLocalFileTarget\u001b[0m(\u001b[1;49;34mfs\u001b[0m=local_fs, \u001b[1;49;34mpath\u001b[0m=$PWD/data/ComputeTerm/term_0.json)\n",
      "│          \u001b[1;49;32mexistent\u001b[0m\n",
      "│\n",
      "├──1 > \u001b[0;49;32mComputeTerm\u001b[0m(\u001b[1;49;34morder\u001b[0m=1)\n",
      "│        \u001b[0;49;36mLocalFileTarget\u001b[0m(\u001b[1;49;34mfs\u001b[0m=local_fs, \u001b[1;49;34mpath\u001b[0m=$PWD/data/ComputeTerm/term_1.json)\n",
      "│          \u001b[1;49;31mabsent\u001b[0m\n",
      "│\n",
      "└──1 > \u001b[0;49;32mComputeTerm\u001b[0m(\u001b[1;49;34morder\u001b[0m=2)\n",
      "         \u001b[0;49;36mLocalFileTarget\u001b[0m(\u001b[1;49;34mfs\u001b[0m=local_fs, \u001b[1;49;34mpath\u001b[0m=$PWD/data/ComputeTerm/term_2.json)\n",
      "           \u001b[1;49;31mabsent\u001b[0m\n"
     ]
    }
   ],
   "source": [
    "%ilaw run ComputePi --order 2 --print-status 1"
   ]
  },
  {
   "cell_type": "markdown",
   "id": "4961edca",
   "metadata": {},
   "source": [
    "Other interactive parameters are\n",
    "\n",
    "- `--print-deps LEVEL`: Prints only the dependent tasks and no output targets statuses.\n",
    "- `--print-output LEVEL[,FLAGS]`: Prints a flat list of output files.\n",
    "- `--remove-output LEVEL[,FLAGS]`: Removes outputs (see below).\n",
    "- `--fetch-output LEVEL[,FLAGS]`: Fetches (remote) outputs to a local directory.\n",
    "\n",
    "Always feel free to add `--help` to any command to get more info on which parameters exist and which values they accept.\n",
    "\n",
    "As an example, we can delete the output of the `ComputeTerm` task that we ran above."
   ]
  },
  {
   "cell_type": "code",
   "execution_count": 10,
   "id": "e4ff2520",
   "metadata": {},
   "outputs": [
    {
     "name": "stdout",
     "output_type": "stream",
     "text": [
      "remove task output with max_depth 0\n",
      "removal mode? [i*(interactive), d(dry), a(all)] \n",
      "selected \u001b[1;49;34minteractive mode\u001b[0m mode\n",
      "\n",
      "0 > \u001b[0;49;32mComputeTerm\u001b[0m(\u001b[1;49;34morder\u001b[0m=0)\n",
      "      remove outputs? [y*(yes), n(no), a(all)] \n",
      "      \u001b[0;49;36mLocalFileTarget\u001b[0m(\u001b[1;49;34mfs\u001b[0m=local_fs, \u001b[1;49;34mpath\u001b[0m=$PWD/data/ComputeTerm/term_0.json)\n",
      "        remove? [y(yes), n*(no)] y\n",
      "        \u001b[1;49;31mremoved\u001b[0m\n"
     ]
    }
   ],
   "source": [
    "%ilaw run ComputeTerm --order 0 --remove-output 0"
   ]
  },
  {
   "cell_type": "markdown",
   "id": "81c15b99",
   "metadata": {},
   "source": [
    "As output removal can be dangerous, the default mode is interactive which forces you to confirm deletions on a per-task or even per-target level.\n",
    "If you are absolutely sure that you know what you are deleting, you can select `all` mode.\n",
    "And to avoid being prompted for the mode, you can add \"a\" to the `--remove-ouput` argument, separatey by a comma."
   ]
  },
  {
   "cell_type": "code",
   "execution_count": 11,
   "id": "d1e28140",
   "metadata": {},
   "outputs": [
    {
     "name": "stdout",
     "output_type": "stream",
     "text": [
      "remove task output with max_depth 0\n",
      "selected \u001b[1;49;34mall mode\u001b[0m mode\n",
      "\n",
      "0 > \u001b[0;49;32mComputeTerm\u001b[0m(\u001b[1;49;34morder\u001b[0m=0)\n",
      "      \u001b[0;49;36mLocalFileTarget\u001b[0m(\u001b[1;49;34mfs\u001b[0m=local_fs, \u001b[1;49;34mpath\u001b[0m=$PWD/data/ComputeTerm/term_0.json)\n",
      "        \u001b[1;49;31mremoved\u001b[0m\n"
     ]
    }
   ],
   "source": [
    "%ilaw run ComputeTerm --order 0 --remove-output 0,a"
   ]
  },
  {
   "cell_type": "markdown",
   "id": "94260ae8",
   "metadata": {},
   "source": [
    "Now, if we query the status again (with the above command), we see that the output is in fact missing."
   ]
  },
  {
   "cell_type": "code",
   "execution_count": 12,
   "id": "c7f04965",
   "metadata": {},
   "outputs": [
    {
     "name": "stdout",
     "output_type": "stream",
     "text": [
      "print task status with max_depth 1 and target_depth 0\n",
      "\n",
      "0 > \u001b[0;49;32mComputePi\u001b[0m(\u001b[1;49;34morder\u001b[0m=2)\n",
      "│     \u001b[0;49;36mLocalFileTarget\u001b[0m(\u001b[1;49;34mfs\u001b[0m=local_fs, \u001b[1;49;34mpath\u001b[0m=$PWD/data/ComputePi/pi_2.json)\n",
      "│       \u001b[1;49;31mabsent\u001b[0m\n",
      "│\n",
      "├──1 > \u001b[0;49;32mComputeTerm\u001b[0m(\u001b[1;49;34morder\u001b[0m=0)\n",
      "│        \u001b[0;49;36mLocalFileTarget\u001b[0m(\u001b[1;49;34mfs\u001b[0m=local_fs, \u001b[1;49;34mpath\u001b[0m=$PWD/data/ComputeTerm/term_0.json)\n",
      "│          \u001b[1;49;31mabsent\u001b[0m\n",
      "│\n",
      "├──1 > \u001b[0;49;32mComputeTerm\u001b[0m(\u001b[1;49;34morder\u001b[0m=1)\n",
      "│        \u001b[0;49;36mLocalFileTarget\u001b[0m(\u001b[1;49;34mfs\u001b[0m=local_fs, \u001b[1;49;34mpath\u001b[0m=$PWD/data/ComputeTerm/term_1.json)\n",
      "│          \u001b[1;49;31mabsent\u001b[0m\n",
      "│\n",
      "└──1 > \u001b[0;49;32mComputeTerm\u001b[0m(\u001b[1;49;34morder\u001b[0m=2)\n",
      "         \u001b[0;49;36mLocalFileTarget\u001b[0m(\u001b[1;49;34mfs\u001b[0m=local_fs, \u001b[1;49;34mpath\u001b[0m=$PWD/data/ComputeTerm/term_2.json)\n",
      "           \u001b[1;49;31mabsent\u001b[0m\n"
     ]
    }
   ],
   "source": [
    "%ilaw run ComputePi --order 2 --print-status 1"
   ]
  },
  {
   "cell_type": "markdown",
   "id": "f8fda4a9",
   "metadata": {},
   "source": [
    "##### Run everything"
   ]
  },
  {
   "cell_type": "markdown",
   "id": "4021fd62",
   "metadata": {},
   "source": [
    "Let's compute $\\pi$ up to order 2."
   ]
  },
  {
   "cell_type": "code",
   "execution_count": 13,
   "id": "10da2ea3",
   "metadata": {},
   "outputs": [
    {
     "name": "stderr",
     "output_type": "stream",
     "text": [
      "\u001b[0;49;32mINFO\u001b[0m: \u001b[0;49;39mluigi-interface\u001b[0m - \u001b[0;49;39mInformed scheduler that task   \u001b[1;49;39mComputePi_2_65f6329628\u001b[0m   has status   \u001b[0;49;36mPENDING\u001b[0m\u001b[0m\n",
      "\u001b[0;49;32mINFO\u001b[0m: \u001b[0;49;39mluigi-interface\u001b[0m - \u001b[0;49;39mInformed scheduler that task   \u001b[1;49;39mComputeTerm_2_65f6329628\u001b[0m   has status   \u001b[0;49;36mPENDING\u001b[0m\u001b[0m\n",
      "\u001b[0;49;32mINFO\u001b[0m: \u001b[0;49;39mluigi-interface\u001b[0m - \u001b[0;49;39mInformed scheduler that task   \u001b[1;49;39mComputeTerm_1_861bfab55e\u001b[0m   has status   \u001b[0;49;36mPENDING\u001b[0m\u001b[0m\n",
      "\u001b[0;49;32mINFO\u001b[0m: \u001b[0;49;39mluigi-interface\u001b[0m - \u001b[0;49;39mInformed scheduler that task   \u001b[1;49;39mComputeTerm_0_14b1d8259d\u001b[0m   has status   \u001b[0;49;36mPENDING\u001b[0m\u001b[0m\n",
      "\u001b[0;49;32mINFO\u001b[0m: \u001b[0;49;39mluigi-interface\u001b[0m - \u001b[0;49;39m\u001b[1;49;32mDone scheduling tasks\u001b[0m\u001b[0m\n",
      "\u001b[0;49;32mINFO\u001b[0m: \u001b[0;49;39mluigi-interface\u001b[0m - \u001b[0;49;39mRunning Worker with 1 processes\u001b[0m\n",
      "\u001b[0;49;32mINFO\u001b[0m: \u001b[0;49;39mluigi-interface\u001b[0m - \u001b[0;49;39m[pid 79545] Worker Worker(salt=4407183577, workers=1, username=marcel, pid=79545) \u001b[0;49;36mrunning\u001b[0m   \u001b[1;49;39m\u001b[0;49;32mComputeTerm\u001b[0m\u001b[0m(\u001b[1;49;34morder\u001b[0m=1)\u001b[0m\n",
      "\u001b[0;49;32mINFO\u001b[0m: \u001b[0;49;39mluigi-interface\u001b[0m - \u001b[0;49;39m[pid 79545] Worker Worker(salt=4407183577, workers=1, username=marcel, pid=79545) \u001b[0;49;32mdone\u001b[0m      \u001b[1;49;39m\u001b[0;49;32mComputeTerm\u001b[0m\u001b[0m(\u001b[1;49;34morder\u001b[0m=1)\u001b[0m\n",
      "\u001b[0;49;32mINFO\u001b[0m: \u001b[0;49;39mluigi-interface\u001b[0m - \u001b[0;49;39mInformed scheduler that task   \u001b[1;49;39mComputeTerm_1_861bfab55e\u001b[0m   has status   \u001b[0;49;32mDONE\u001b[0m\u001b[0m\n",
      "\u001b[0;49;32mINFO\u001b[0m: \u001b[0;49;39mluigi-interface\u001b[0m - \u001b[0;49;39m[pid 79545] Worker Worker(salt=4407183577, workers=1, username=marcel, pid=79545) \u001b[0;49;36mrunning\u001b[0m   \u001b[1;49;39m\u001b[0;49;32mComputeTerm\u001b[0m\u001b[0m(\u001b[1;49;34morder\u001b[0m=0)\u001b[0m\n",
      "\u001b[0;49;32mINFO\u001b[0m: \u001b[0;49;39mluigi-interface\u001b[0m - \u001b[0;49;39m[pid 79545] Worker Worker(salt=4407183577, workers=1, username=marcel, pid=79545) \u001b[0;49;32mdone\u001b[0m      \u001b[1;49;39m\u001b[0;49;32mComputeTerm\u001b[0m\u001b[0m(\u001b[1;49;34morder\u001b[0m=0)\u001b[0m\n",
      "\u001b[0;49;32mINFO\u001b[0m: \u001b[0;49;39mluigi-interface\u001b[0m - \u001b[0;49;39mInformed scheduler that task   \u001b[1;49;39mComputeTerm_0_14b1d8259d\u001b[0m   has status   \u001b[0;49;32mDONE\u001b[0m\u001b[0m\n",
      "\u001b[0;49;32mINFO\u001b[0m: \u001b[0;49;39mluigi-interface\u001b[0m - \u001b[0;49;39m[pid 79545] Worker Worker(salt=4407183577, workers=1, username=marcel, pid=79545) \u001b[0;49;36mrunning\u001b[0m   \u001b[1;49;39m\u001b[0;49;32mComputeTerm\u001b[0m\u001b[0m(\u001b[1;49;34morder\u001b[0m=2)\u001b[0m\n",
      "\u001b[0;49;32mINFO\u001b[0m: \u001b[0;49;39mluigi-interface\u001b[0m - \u001b[0;49;39m[pid 79545] Worker Worker(salt=4407183577, workers=1, username=marcel, pid=79545) \u001b[0;49;32mdone\u001b[0m      \u001b[1;49;39m\u001b[0;49;32mComputeTerm\u001b[0m\u001b[0m(\u001b[1;49;34morder\u001b[0m=2)\u001b[0m\n",
      "\u001b[0;49;32mINFO\u001b[0m: \u001b[0;49;39mluigi-interface\u001b[0m - \u001b[0;49;39mInformed scheduler that task   \u001b[1;49;39mComputeTerm_2_65f6329628\u001b[0m   has status   \u001b[0;49;32mDONE\u001b[0m\u001b[0m\n",
      "\u001b[0;49;32mINFO\u001b[0m: \u001b[0;49;39mluigi-interface\u001b[0m - \u001b[0;49;39m[pid 79545] Worker Worker(salt=4407183577, workers=1, username=marcel, pid=79545) \u001b[0;49;36mrunning\u001b[0m   \u001b[1;49;39m\u001b[0;49;32mComputePi\u001b[0m\u001b[0m(\u001b[1;49;34morder\u001b[0m=2)\u001b[0m\n",
      "\u001b[0;49;32mINFO\u001b[0m: \u001b[0;49;39mluigi-interface\u001b[0m - \u001b[0;49;39m[pid 79545] Worker Worker(salt=4407183577, workers=1, username=marcel, pid=79545) \u001b[0;49;32mdone\u001b[0m      \u001b[1;49;39m\u001b[0;49;32mComputePi\u001b[0m\u001b[0m(\u001b[1;49;34morder\u001b[0m=2)\u001b[0m\n",
      "\u001b[0;49;32mINFO\u001b[0m: \u001b[0;49;39mluigi-interface\u001b[0m - \u001b[0;49;39mInformed scheduler that task   \u001b[1;49;39mComputePi_2_65f6329628\u001b[0m   has status   \u001b[0;49;32mDONE\u001b[0m\u001b[0m\n",
      "\u001b[0;49;32mINFO\u001b[0m: \u001b[0;49;39mluigi-interface\u001b[0m - \u001b[0;49;39mWorker Worker(salt=4407183577, workers=1, username=marcel, pid=79545) was stopped. Shutting down Keep-Alive thread\u001b[0m\n",
      "\u001b[0;49;32mINFO\u001b[0m: \u001b[0;49;39mluigi-interface\u001b[0m - \u001b[0;49;39m\n",
      "===== Luigi Execution Summary =====\n",
      "\n",
      "Scheduled 4 tasks of which:\n",
      "* 4 ran successfully:\n",
      "    - 1 ComputePi(...)\n",
      "    - 3 ComputeTerm(...)\n",
      "\n",
      "This progress looks :) because there were no failed tasks or missing dependencies\n",
      "\n",
      "===== Luigi Execution Summary =====\n",
      "\u001b[0m\n"
     ]
    },
    {
     "name": "stdout",
     "output_type": "stream",
     "text": [
      "pi for order 2\n",
      "\n",
      "approx.: 3.141621029325035\n",
      "actual : 3.141592653589793115997963468544\n"
     ]
    },
    {
     "data": {
      "text/plain": [
       "True"
      ]
     },
     "execution_count": 13,
     "metadata": {},
     "output_type": "execute_result"
    }
   ],
   "source": [
    "%ilaw run ComputePi --order 2"
   ]
  },
  {
   "cell_type": "markdown",
   "id": "6d5bf9cf",
   "metadata": {},
   "source": [
    "Add another order and note, that only one additional `ComputeTerm` task is run, since the ones for orders 0, 1 and 2 are already complete (as their outputs exist)."
   ]
  },
  {
   "cell_type": "code",
   "execution_count": 14,
   "id": "ae3e1b9b",
   "metadata": {},
   "outputs": [
    {
     "name": "stderr",
     "output_type": "stream",
     "text": [
      "\u001b[0;49;32mINFO\u001b[0m: \u001b[0;49;39mluigi-interface\u001b[0m - \u001b[0;49;39mInformed scheduler that task   \u001b[1;49;39mComputePi_3_981b2635ea\u001b[0m   has status   \u001b[0;49;36mPENDING\u001b[0m\u001b[0m\n",
      "\u001b[0;49;32mINFO\u001b[0m: \u001b[0;49;39mluigi-interface\u001b[0m - \u001b[0;49;39mInformed scheduler that task   \u001b[1;49;39mComputeTerm_3_981b2635ea\u001b[0m   has status   \u001b[0;49;36mPENDING\u001b[0m\u001b[0m\n",
      "\u001b[0;49;32mINFO\u001b[0m: \u001b[0;49;39mluigi-interface\u001b[0m - \u001b[0;49;39mInformed scheduler that task   \u001b[1;49;39mComputeTerm_2_65f6329628\u001b[0m   has status   \u001b[0;49;32mDONE\u001b[0m\u001b[0m\n",
      "\u001b[0;49;32mINFO\u001b[0m: \u001b[0;49;39mluigi-interface\u001b[0m - \u001b[0;49;39mInformed scheduler that task   \u001b[1;49;39mComputeTerm_1_861bfab55e\u001b[0m   has status   \u001b[0;49;32mDONE\u001b[0m\u001b[0m\n",
      "\u001b[0;49;32mINFO\u001b[0m: \u001b[0;49;39mluigi-interface\u001b[0m - \u001b[0;49;39mInformed scheduler that task   \u001b[1;49;39mComputeTerm_0_14b1d8259d\u001b[0m   has status   \u001b[0;49;32mDONE\u001b[0m\u001b[0m\n",
      "\u001b[0;49;32mINFO\u001b[0m: \u001b[0;49;39mluigi-interface\u001b[0m - \u001b[0;49;39m\u001b[1;49;32mDone scheduling tasks\u001b[0m\u001b[0m\n",
      "\u001b[0;49;32mINFO\u001b[0m: \u001b[0;49;39mluigi-interface\u001b[0m - \u001b[0;49;39mRunning Worker with 1 processes\u001b[0m\n",
      "\u001b[0;49;32mINFO\u001b[0m: \u001b[0;49;39mluigi-interface\u001b[0m - \u001b[0;49;39m[pid 79545] Worker Worker(salt=561568154, workers=1, username=marcel, pid=79545) \u001b[0;49;36mrunning\u001b[0m   \u001b[1;49;39m\u001b[0;49;32mComputeTerm\u001b[0m\u001b[0m(\u001b[1;49;34morder\u001b[0m=3)\u001b[0m\n",
      "\u001b[0;49;32mINFO\u001b[0m: \u001b[0;49;39mluigi-interface\u001b[0m - \u001b[0;49;39m[pid 79545] Worker Worker(salt=561568154, workers=1, username=marcel, pid=79545) \u001b[0;49;32mdone\u001b[0m      \u001b[1;49;39m\u001b[0;49;32mComputeTerm\u001b[0m\u001b[0m(\u001b[1;49;34morder\u001b[0m=3)\u001b[0m\n",
      "\u001b[0;49;32mINFO\u001b[0m: \u001b[0;49;39mluigi-interface\u001b[0m - \u001b[0;49;39mInformed scheduler that task   \u001b[1;49;39mComputeTerm_3_981b2635ea\u001b[0m   has status   \u001b[0;49;32mDONE\u001b[0m\u001b[0m\n",
      "\u001b[0;49;32mINFO\u001b[0m: \u001b[0;49;39mluigi-interface\u001b[0m - \u001b[0;49;39m[pid 79545] Worker Worker(salt=561568154, workers=1, username=marcel, pid=79545) \u001b[0;49;36mrunning\u001b[0m   \u001b[1;49;39m\u001b[0;49;32mComputePi\u001b[0m\u001b[0m(\u001b[1;49;34morder\u001b[0m=3)\u001b[0m\n",
      "\u001b[0;49;32mINFO\u001b[0m: \u001b[0;49;39mluigi-interface\u001b[0m - \u001b[0;49;39m[pid 79545] Worker Worker(salt=561568154, workers=1, username=marcel, pid=79545) \u001b[0;49;32mdone\u001b[0m      \u001b[1;49;39m\u001b[0;49;32mComputePi\u001b[0m\u001b[0m(\u001b[1;49;34morder\u001b[0m=3)\u001b[0m\n",
      "\u001b[0;49;32mINFO\u001b[0m: \u001b[0;49;39mluigi-interface\u001b[0m - \u001b[0;49;39mInformed scheduler that task   \u001b[1;49;39mComputePi_3_981b2635ea\u001b[0m   has status   \u001b[0;49;32mDONE\u001b[0m\u001b[0m\n",
      "\u001b[0;49;32mINFO\u001b[0m: \u001b[0;49;39mluigi-interface\u001b[0m - \u001b[0;49;39mWorker Worker(salt=561568154, workers=1, username=marcel, pid=79545) was stopped. Shutting down Keep-Alive thread\u001b[0m\n",
      "\u001b[0;49;32mINFO\u001b[0m: \u001b[0;49;39mluigi-interface\u001b[0m - \u001b[0;49;39m\n",
      "===== Luigi Execution Summary =====\n",
      "\n",
      "Scheduled 5 tasks of which:\n",
      "* 3 complete ones were encountered:\n",
      "    - 3 ComputeTerm(...)\n",
      "* 2 ran successfully:\n",
      "    - 1 ComputePi(...)\n",
      "    - 1 ComputeTerm(...)\n",
      "\n",
      "This progress looks :) because there were no failed tasks or missing dependencies\n",
      "\n",
      "===== Luigi Execution Summary =====\n",
      "\u001b[0m\n"
     ]
    },
    {
     "name": "stdout",
     "output_type": "stream",
     "text": [
      "pi for order 3\n",
      "\n",
      "approx.: 3.1415917721821778\n",
      "actual : 3.141592653589793115997963468544\n"
     ]
    },
    {
     "data": {
      "text/plain": [
       "True"
      ]
     },
     "execution_count": 14,
     "metadata": {},
     "output_type": "execute_result"
    }
   ],
   "source": [
    "%ilaw run ComputePi --order 3"
   ]
  },
  {
   "cell_type": "markdown",
   "id": "5a6ec2ef",
   "metadata": {},
   "source": [
    "### Run tasks programmatically"
   ]
  },
  {
   "cell_type": "markdown",
   "id": "8169c739",
   "metadata": {},
   "source": [
    "Tasks can always be run programmatically within your python code.\n",
    "Create an instance of a task class and call its `law_run()` method.\n",
    "\n",
    "**However**, note that parameter values that are passed via keyword arguments should either be strings in the same format as you would pass them on the command line, or encoded in the structure they are expected (e.g. already as integers in case an `luigi.IntParameter` is used).\n",
    "Usually, it's more convenient to pass strings and let the parameter objects handle the parsing."
   ]
  },
  {
   "cell_type": "code",
   "execution_count": 15,
   "id": "1d37bde9",
   "metadata": {},
   "outputs": [
    {
     "name": "stderr",
     "output_type": "stream",
     "text": [
      "\u001b[0;49;32mINFO\u001b[0m: \u001b[0;49;39mluigi-interface\u001b[0m - \u001b[0;49;39mInformed scheduler that task   \u001b[1;49;39mComputePi_5_17e7c03c31\u001b[0m   has status   \u001b[0;49;36mPENDING\u001b[0m\u001b[0m\n",
      "\u001b[0;49;32mINFO\u001b[0m: \u001b[0;49;39mluigi-interface\u001b[0m - \u001b[0;49;39mInformed scheduler that task   \u001b[1;49;39mComputeTerm_5_17e7c03c31\u001b[0m   has status   \u001b[0;49;36mPENDING\u001b[0m\u001b[0m\n",
      "\u001b[0;49;32mINFO\u001b[0m: \u001b[0;49;39mluigi-interface\u001b[0m - \u001b[0;49;39mInformed scheduler that task   \u001b[1;49;39mComputeTerm_4_b90cc5595b\u001b[0m   has status   \u001b[0;49;36mPENDING\u001b[0m\u001b[0m\n",
      "\u001b[0;49;32mINFO\u001b[0m: \u001b[0;49;39mluigi-interface\u001b[0m - \u001b[0;49;39mInformed scheduler that task   \u001b[1;49;39mComputeTerm_3_981b2635ea\u001b[0m   has status   \u001b[0;49;32mDONE\u001b[0m\u001b[0m\n",
      "\u001b[0;49;32mINFO\u001b[0m: \u001b[0;49;39mluigi-interface\u001b[0m - \u001b[0;49;39mInformed scheduler that task   \u001b[1;49;39mComputeTerm_2_65f6329628\u001b[0m   has status   \u001b[0;49;32mDONE\u001b[0m\u001b[0m\n",
      "\u001b[0;49;32mINFO\u001b[0m: \u001b[0;49;39mluigi-interface\u001b[0m - \u001b[0;49;39mInformed scheduler that task   \u001b[1;49;39mComputeTerm_1_861bfab55e\u001b[0m   has status   \u001b[0;49;32mDONE\u001b[0m\u001b[0m\n",
      "\u001b[0;49;32mINFO\u001b[0m: \u001b[0;49;39mluigi-interface\u001b[0m - \u001b[0;49;39mInformed scheduler that task   \u001b[1;49;39mComputeTerm_0_14b1d8259d\u001b[0m   has status   \u001b[0;49;32mDONE\u001b[0m\u001b[0m\n",
      "\u001b[0;49;32mINFO\u001b[0m: \u001b[0;49;39mluigi-interface\u001b[0m - \u001b[0;49;39m\u001b[1;49;32mDone scheduling tasks\u001b[0m\u001b[0m\n",
      "\u001b[0;49;32mINFO\u001b[0m: \u001b[0;49;39mluigi-interface\u001b[0m - \u001b[0;49;39mRunning Worker with 1 processes\u001b[0m\n",
      "\u001b[0;49;32mINFO\u001b[0m: \u001b[0;49;39mluigi-interface\u001b[0m - \u001b[0;49;39m[pid 79545] Worker Worker(salt=5729141724, workers=1, username=marcel, pid=79545) \u001b[0;49;36mrunning\u001b[0m   \u001b[1;49;39m\u001b[0;49;32mComputeTerm\u001b[0m\u001b[0m(\u001b[1;49;34morder\u001b[0m=5)\u001b[0m\n",
      "\u001b[0;49;32mINFO\u001b[0m: \u001b[0;49;39mluigi-interface\u001b[0m - \u001b[0;49;39m[pid 79545] Worker Worker(salt=5729141724, workers=1, username=marcel, pid=79545) \u001b[0;49;32mdone\u001b[0m      \u001b[1;49;39m\u001b[0;49;32mComputeTerm\u001b[0m\u001b[0m(\u001b[1;49;34morder\u001b[0m=5)\u001b[0m\n",
      "\u001b[0;49;32mINFO\u001b[0m: \u001b[0;49;39mluigi-interface\u001b[0m - \u001b[0;49;39mInformed scheduler that task   \u001b[1;49;39mComputeTerm_5_17e7c03c31\u001b[0m   has status   \u001b[0;49;32mDONE\u001b[0m\u001b[0m\n",
      "\u001b[0;49;32mINFO\u001b[0m: \u001b[0;49;39mluigi-interface\u001b[0m - \u001b[0;49;39m[pid 79545] Worker Worker(salt=5729141724, workers=1, username=marcel, pid=79545) \u001b[0;49;36mrunning\u001b[0m   \u001b[1;49;39m\u001b[0;49;32mComputeTerm\u001b[0m\u001b[0m(\u001b[1;49;34morder\u001b[0m=4)\u001b[0m\n",
      "\u001b[0;49;32mINFO\u001b[0m: \u001b[0;49;39mluigi-interface\u001b[0m - \u001b[0;49;39m[pid 79545] Worker Worker(salt=5729141724, workers=1, username=marcel, pid=79545) \u001b[0;49;32mdone\u001b[0m      \u001b[1;49;39m\u001b[0;49;32mComputeTerm\u001b[0m\u001b[0m(\u001b[1;49;34morder\u001b[0m=4)\u001b[0m\n",
      "\u001b[0;49;32mINFO\u001b[0m: \u001b[0;49;39mluigi-interface\u001b[0m - \u001b[0;49;39mInformed scheduler that task   \u001b[1;49;39mComputeTerm_4_b90cc5595b\u001b[0m   has status   \u001b[0;49;32mDONE\u001b[0m\u001b[0m\n",
      "\u001b[0;49;32mINFO\u001b[0m: \u001b[0;49;39mluigi-interface\u001b[0m - \u001b[0;49;39m[pid 79545] Worker Worker(salt=5729141724, workers=1, username=marcel, pid=79545) \u001b[0;49;36mrunning\u001b[0m   \u001b[1;49;39m\u001b[0;49;32mComputePi\u001b[0m\u001b[0m(\u001b[1;49;34morder\u001b[0m=5)\u001b[0m\n",
      "\u001b[0;49;32mINFO\u001b[0m: \u001b[0;49;39mluigi-interface\u001b[0m - \u001b[0;49;39m[pid 79545] Worker Worker(salt=5729141724, workers=1, username=marcel, pid=79545) \u001b[0;49;32mdone\u001b[0m      \u001b[1;49;39m\u001b[0;49;32mComputePi\u001b[0m\u001b[0m(\u001b[1;49;34morder\u001b[0m=5)\u001b[0m\n",
      "\u001b[0;49;32mINFO\u001b[0m: \u001b[0;49;39mluigi-interface\u001b[0m - \u001b[0;49;39mInformed scheduler that task   \u001b[1;49;39mComputePi_5_17e7c03c31\u001b[0m   has status   \u001b[0;49;32mDONE\u001b[0m\u001b[0m\n",
      "\u001b[0;49;32mINFO\u001b[0m: \u001b[0;49;39mluigi-interface\u001b[0m - \u001b[0;49;39mWorker Worker(salt=5729141724, workers=1, username=marcel, pid=79545) was stopped. Shutting down Keep-Alive thread\u001b[0m\n",
      "\u001b[0;49;32mINFO\u001b[0m: \u001b[0;49;39mluigi-interface\u001b[0m - \u001b[0;49;39m\n",
      "===== Luigi Execution Summary =====\n",
      "\n",
      "Scheduled 7 tasks of which:\n",
      "* 4 complete ones were encountered:\n",
      "    - 4 ComputeTerm(...)\n",
      "* 3 ran successfully:\n",
      "    - 1 ComputePi(...)\n",
      "    - 2 ComputeTerm(...)\n",
      "\n",
      "This progress looks :) because there were no failed tasks or missing dependencies\n",
      "\n",
      "===== Luigi Execution Summary =====\n",
      "\u001b[0m\n"
     ]
    },
    {
     "name": "stdout",
     "output_type": "stream",
     "text": [
      "pi for order 5\n",
      "\n",
      "approx.: 3.141592652615309\n",
      "actual : 3.141592653589793115997963468544\n"
     ]
    },
    {
     "data": {
      "text/plain": [
       "True"
      ]
     },
     "execution_count": 15,
     "metadata": {},
     "output_type": "execute_result"
    }
   ],
   "source": [
    "# run up to order 5\n",
    "task = ComputePi(order=\"5\")\n",
    "task.law_run()"
   ]
  },
  {
   "cell_type": "markdown",
   "id": "f9abb8f7",
   "metadata": {},
   "source": [
    "You can access the outputs afterwards and continue working with them, for instance, in a script for prototyping."
   ]
  },
  {
   "cell_type": "code",
   "execution_count": 16,
   "id": "de60cd88",
   "metadata": {},
   "outputs": [
    {
     "name": "stdout",
     "output_type": "stream",
     "text": [
      "relative difference: 0.000000031%\n"
     ]
    }
   ],
   "source": [
    "import math\n",
    "\n",
    "approx_pi = task.output().load(formatter=\"json\")[\"pi\"]\n",
    "\n",
    "rel_diff = abs(approx_pi - math.pi) / math.pi\n",
    "print(f\"relative difference: {rel_diff * 100:.9f}%\")"
   ]
  }
 ],
 "metadata": {
  "colab": {
   "provenance": []
  },
  "kernelspec": {
   "display_name": "Python 3 (ipykernel)",
   "language": "python",
   "name": "python3"
  },
  "language_info": {
   "codemirror_mode": {
    "name": "ipython",
    "version": 3
   },
   "file_extension": ".py",
   "mimetype": "text/x-python",
   "name": "python",
   "nbconvert_exporter": "python",
   "pygments_lexer": "ipython3",
   "version": "3.9.15"
  }
 },
 "nbformat": 4,
 "nbformat_minor": 5
}
